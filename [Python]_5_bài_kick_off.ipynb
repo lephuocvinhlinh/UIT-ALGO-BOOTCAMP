{
  "nbformat": 4,
  "nbformat_minor": 0,
  "metadata": {
    "colab": {
      "name": "[Python] 5 bài kick-off.ipynb",
      "provenance": [],
      "authorship_tag": "ABX9TyPkLxa/htEpfni/nA8xlLxp",
      "include_colab_link": true
    },
    "kernelspec": {
      "name": "python3",
      "display_name": "Python 3"
    },
    "language_info": {
      "name": "python"
    }
  },
  "cells": [
    {
      "cell_type": "markdown",
      "metadata": {
        "id": "view-in-github",
        "colab_type": "text"
      },
      "source": [
        "<a href=\"https://colab.research.google.com/github/lephuocvinhlinh/UIT-ALGO-BOOTCAMP/blob/main/%5BPython%5D_5_b%C3%A0i_kick_off.ipynb\" target=\"_parent\"><img src=\"https://colab.research.google.com/assets/colab-badge.svg\" alt=\"Open In Colab\"/></a>"
      ]
    },
    {
      "cell_type": "markdown",
      "metadata": {
        "id": "m3HH7ZtGnIAV"
      },
      "source": [
        "**1. Hidden word**"
      ]
    },
    {
      "cell_type": "code",
      "metadata": {
        "id": "DKNrLafKo24V"
      },
      "source": [
        "n, m, q = [int(i) for i in input().strip().split(' ')]\n",
        "a = [None] * n \n",
        "for i in range(n):\n",
        "    a[i] = input().strip()\n",
        "\n",
        "s = [set()] * 11 \n",
        "for i in range(n):\n",
        "    for j in range(m):\n",
        "        for t in range(1, 11):\n",
        "            if (j + t - 1 < m):\n",
        "                s[t].add(a[i][j:j + t])\n",
        "            if (i + t - 1 < n):\n",
        "                s[t].add(\"\".join([a[i + x][j] for x in range(t)]))\n",
        "            \n",
        "for i in range(q):\n",
        "    key = input().strip()\n",
        "    if (key in s[len(key)]):\n",
        "        print('1', end=\"\")\n",
        "    else:\n",
        "        print('0', end=\"\")\n",
        "\n",
        "print()"
      ],
      "execution_count": null,
      "outputs": []
    },
    {
      "cell_type": "markdown",
      "metadata": {
        "id": "vEdZfKiiqbYv"
      },
      "source": [
        "**2.True Expression**"
      ]
    },
    {
      "cell_type": "code",
      "metadata": {
        "colab": {
          "base_uri": "https://localhost:8080/"
        },
        "id": "IxX64NU9qe0L",
        "outputId": "854c48f2-19d7-4ff6-c8eb-eabf22768146"
      },
      "source": [
        "#code theo hướng dẫn trong file notebook của anh Nguyễn Hữu Phong\n",
        "a = [int(i) for i in input().split()]\n",
        "n, s = a[0], a[1]\n",
        "ans = [' ' for i in range(n+10)]\n",
        "\n",
        "if s > n*(n + 1)/2:\n",
        "    print(\"NO_SOLUTION\")\n",
        "elif (s - (n*(n + 1)/2)) % 2 != 0:\n",
        "    print(\"NO_SOLUTION\")\n",
        "else:\n",
        "    for i in range(1, n+1):\n",
        "        ans[i] = '+'\n",
        "    sum = 0\n",
        "    tmp = ((n*(n + 1)/2) - s) /2\n",
        "    for i in range(1, n+1):\n",
        "        sum += i\n",
        "        if sum > tmp:\n",
        "            for j in range(1, i+1):\n",
        "                if j != sum - tmp:\n",
        "                    ans[j] = '-'\n",
        "            break\n",
        "\n",
        "    for i in range(1, n+1):\n",
        "        print(ans[i], end = \"\")"
      ],
      "execution_count": null,
      "outputs": [
        {
          "output_type": "stream",
          "text": [
            "5 7\n",
            "-+-++"
          ],
          "name": "stdout"
        }
      ]
    },
    {
      "cell_type": "markdown",
      "metadata": {
        "id": "D9Y9MIa8zXur"
      },
      "source": [
        "**3. Top k hits**"
      ]
    },
    {
      "cell_type": "code",
      "metadata": {
        "id": "WGLQ55VWzpya"
      },
      "source": [
        "inp_ = input().strip().split()\n",
        "n = int(inp_[0])\n",
        "q = int(inp_[1])\n",
        "\n",
        "tree = [{()} for lp in range(50000 * 4 + 10)]\n",
        "lazy = [(0) for lp in range(50000 * 4 + 10)]\n",
        "\n",
        "\n",
        "def build(i, l, r):\n",
        "    if l == r:\n",
        "        tree[i].clear()\n",
        "        tree[i].add((0, l))\n",
        "        return\n",
        "\n",
        "    m = (l + r) >> 1\n",
        "\n",
        "    build(i << 1, l, m)\n",
        "    build(i << 1 | 1, m + 1, r)\n",
        "\n",
        "    tree[i] = tree[i << 1] | tree[i << 1 | 1]\n",
        "    while len(tree[i]) > 5:\n",
        "        (tree[i]).remove(min(tree[i]))\n",
        "\n",
        "\n",
        "def addValue(i, val):\n",
        "    tmp = {()}\n",
        "    tmp.clear()\n",
        "    while len(tree[i]) > 0:\n",
        "        v_tmp = tree[i].pop()\n",
        "        tmp.add((v_tmp[0] + val, v_tmp[1]))\n",
        "    return tmp\n",
        "\n",
        "\n",
        "def down(i):\n",
        "    lazy[i << 1] += lazy[i]\n",
        "    lazy[i << 1 | 1] += lazy[i]\n",
        "\n",
        "    tree[i<<1] = addValue(i << 1, lazy[i])\n",
        "    tree[i<<1|1] = addValue(i << 1 | 1, lazy[i])\n",
        "\n",
        "    lazy[i] = 0\n",
        "\n",
        "\n",
        "def update(i, l, r, u, v, val):\n",
        "    if l > v or r < u:\n",
        "        return\n",
        "    if u <= l and r <= v:\n",
        "        lazy[i] += val\n",
        "        tree[i] = addValue(i, val)\n",
        "        return\n",
        "\n",
        "    m = (l + r) >> 1\n",
        "    if lazy[i]!=0:\n",
        "        down(i)\n",
        "    update(i << 1, l, m, u, v, val)\n",
        "    update(i << 1 | 1, m + 1, r, u, v, val)\n",
        "\n",
        "    tree[i] = tree[i << 1] | tree[i << 1 | 1]\n",
        "    while len(tree[i]) > 5:\n",
        "        (tree[i]).remove(min(tree[i]))\n",
        "\n",
        "\n",
        "build(1, 1, n)\n",
        "for query_ in range(q):\n",
        "    inp_ = input().split()\n",
        "    typ = int(inp_[0])\n",
        "    if typ == 1:\n",
        "        lef = int(inp_[1])\n",
        "        rig = int(inp_[2])\n",
        "        val = int(inp_[3])\n",
        "        update(1, 1, n, lef, rig, val)\n",
        "    else:\n",
        "        k = int(inp_[1])\n",
        "        seg = sorted(tree[1], reverse=True)\n",
        "        for i in range(min(k, n)):\n",
        "            print(seg[i][1], end=' ')\n",
        "        print()"
      ],
      "execution_count": null,
      "outputs": []
    },
    {
      "cell_type": "markdown",
      "metadata": {
        "id": "7ezI5EMrzqIC"
      },
      "source": [
        "**4. Splitting Carrot**"
      ]
    },
    {
      "cell_type": "code",
      "metadata": {
        "id": "EGowLi-hztSD"
      },
      "source": [
        "n = int(input())\n",
        "arr = [int(i) for i in input().split()]\n",
        "sum = 0\n",
        "chk = [False for i in range(200000+10)]\n",
        "\n",
        "for x in arr:\n",
        "    sum += x\n",
        "\n",
        "if (sum % 2 != 0):\n",
        "    print(\"0\")\n",
        "    exit()\n",
        "\n",
        "sum2 = int(sum / 2)\n",
        "\n",
        "chk[0] = True\n",
        "for x in arr:\n",
        "    if chk[sum2] == True:\n",
        "        break\n",
        "\n",
        "    for i in reversed(range(0, sum2 + 1 - x)):\n",
        "        if chk[i]:\n",
        "            chk[i + x] = True\n",
        "            \n",
        "        if chk[sum2] == True:\n",
        "            break\n",
        "\n",
        "if (chk[sum2] == False):\n",
        "    print(\"0\")\n",
        "    exit()\n",
        "else:\n",
        "    while (True):\n",
        "        for i in range(n):\n",
        "            if arr[i] % 2 != 0:\n",
        "                print(\"1\")\n",
        "                print(i + 1)\n",
        "                exit()\n",
        "            arr[i] = int(arr[i] / 2)"
      ],
      "execution_count": null,
      "outputs": []
    },
    {
      "cell_type": "markdown",
      "metadata": {
        "id": "WmAvQq1tztvf"
      },
      "source": [
        "**5. Minesweeper**"
      ]
    },
    {
      "cell_type": "code",
      "metadata": {
        "id": "Nt0pUfSv0QaN"
      },
      "source": [
        "n, m = map(int, input().split())\n",
        "a = [[int(0) for j in range(m)] for i in range(n)]\n",
        "b = [[int(j) for j in input().split()] for i in range(n)]\n",
        "ck = [0,0]\n",
        "\n",
        "def nex(i,j):\n",
        "    s= 0\n",
        "    if i>0:\n",
        "        s+=a[i-1][j]\n",
        "    if i<n-1:\n",
        "        s+=a[i+1][j]\n",
        "    if j>0:\n",
        "        s+=a[i][j-1]\n",
        "    if j<m-1:\n",
        "        s+=a[i][j+1]\n",
        "    return s\n",
        "\n",
        "def check():\n",
        "    for i in range(1,n):\n",
        "        for j in range(m):\n",
        "            tmp = nex(i-1,j)-a[i][j]\n",
        "            a[i][j] = b[i-1][j] - tmp\n",
        "            if a[i][j]<0 or a[i][j]>2:\n",
        "                return 0\n",
        "            if nex(i-1,j)!=b[i-1][j]:\n",
        "                return 0\n",
        "    for i in range(n):\n",
        "        for j in range(m):\n",
        "            if nex(i,j)!=b[i][j]:\n",
        "                return 0\n",
        "    return 1\n",
        "\n",
        "def pr():\n",
        "    for i in range(n):\n",
        "        for j in range(m):\n",
        "            print(a[i][j], end = ' ')\n",
        "        print()\n",
        "\n",
        "def att(u, v):\n",
        "    if ck[0] : \n",
        "        return\n",
        "    for i in range(2):\n",
        "        if ck[0] : \n",
        "            return\n",
        "        a[u][v] = i\n",
        "        if v>0 and b[u][v]-a[u][v-1]<0:\n",
        "            continue\n",
        "        if u==0 and v==m-1:\n",
        "            ck[0] = check()\n",
        "            if ck[0]:\n",
        "                pr()\n",
        "        else:\n",
        "            if (u>0):\n",
        "                att(u-1,v)\n",
        "            else:\n",
        "                att(u,v+1)\n",
        "\n",
        "\n",
        "\n",
        "att(0,0)"
      ],
      "execution_count": null,
      "outputs": []
    }
  ]
}