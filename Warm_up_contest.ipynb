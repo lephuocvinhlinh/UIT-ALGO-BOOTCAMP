{
  "nbformat": 4,
  "nbformat_minor": 0,
  "metadata": {
    "colab": {
      "name": "Warm-up contest",
      "provenance": [],
      "authorship_tag": "ABX9TyN4Bi/gF4Zcf8jA2T6Madoh",
      "include_colab_link": true
    },
    "kernelspec": {
      "name": "python3",
      "display_name": "Python 3"
    },
    "language_info": {
      "name": "python"
    }
  },
  "cells": [
    {
      "cell_type": "markdown",
      "metadata": {
        "id": "view-in-github",
        "colab_type": "text"
      },
      "source": [
        "<a href=\"https://colab.research.google.com/github/lephuocvinhlinh/UIT-ALGO-BOOTCAMP/blob/main/Warm_up_contest.ipynb\" target=\"_parent\"><img src=\"https://colab.research.google.com/assets/colab-badge.svg\" alt=\"Open In Colab\"/></a>"
      ]
    },
    {
      "cell_type": "markdown",
      "metadata": {
        "id": "1g7ZCJkhrTIu"
      },
      "source": [
        "\n",
        "# 1. VW05p_Enrichement"
      ]
    },
    {
      "cell_type": "markdown",
      "metadata": {
        "id": "llxmQjCatiu4"
      },
      "source": [
        "\n",
        "**Tóm tắt**\n",
        "  \n",
        "  Cho ma trận có kích thước $( 3≤n,m;n×m≤ 10^{6} )$, tìm ma trận con 3×3 sao cho có tổng các phần tử nhỏ nhất \n",
        "\n",
        "---\n",
        "\n",
        "**Ý tưởng**\n",
        "\n",
        "  Duyệt tất cả các ô [i, j], tìm tổng của các ma trận 3 * 3 có ô trái trên là [i, j] và ô phải dưới là [i + 2, j + 2] rồi lấy tổng nhất nhỏ là kết quả. ĐPT: $O(mn)$"
      ]
    },
    {
      "cell_type": "code",
      "metadata": {
        "id": "x6Fi8fDXxsas"
      },
      "source": [
        "n, m = map(int, input().split())\n",
        "\n",
        "a = []\n",
        "\n",
        "for i in range(0, n):\n",
        "    tmp = list(map(int, input().split()))\n",
        "    a.append(tmp)\n",
        "\n",
        "res = 1e6\n",
        "for i in range(0, n - 2):\n",
        "    for j in range(0, m - 2):\n",
        "        sum = 0\n",
        "        for u in range(i, i + 3):\n",
        "            for v in range(j, j + 3):\n",
        "                sum += a[u][v]\n",
        "        res = min(res, sum)\n",
        "\n",
        "print(res)"
      ],
      "execution_count": null,
      "outputs": []
    },
    {
      "cell_type": "markdown",
      "metadata": {
        "id": "Sdc_5j9wye3K"
      },
      "source": [
        "\n",
        "# 2. VW04p_Checkout"
      ]
    },
    {
      "cell_type": "markdown",
      "metadata": {
        "id": "_E1dMtQEyuGc"
      },
      "source": [
        "\n",
        "**Tóm tắt**\n",
        "\n",
        "Cho $d, a_1, a_2, v_{max}, t$, tìm thời gian nhỏ nhất từ lúc vận tốc 0, tăng tốc lên v với gia tốc $a_1$, duy trì vận tốc này trong thời gian ít nhất $t$, giảm dần vận tốc về 0 với gia tốc $a_2$ tổng quãng đường đi được là $d$.\n",
        "\n",
        "\n",
        "---\n",
        "**Ý tưởng**\n",
        "\n",
        "Chia quãng đường d thành 3 đoạn s1, s2, s3 với s1 là từ lúc vận tốc bằng 0 đến lúc vận tốc là v với gia tốc là a1, s2 là quãng đường vận tốc giữ nguyên là v, s3 là quãng đường từ lúc vận tốc v giảm dần về 0 với gia tốc là a2.\n",
        "\n",
        "Ta sẽ tham lam (greedy), cho thời gian trong quãng đường s2 là $t$, sau đó tìm vận tốc v, từ vận tốc v tìm được, ta tính thời gian cho 2 quãng đường s1, s3 rồi có được kết quả.\n",
        "\n",
        "Trong trường hợp v tìm được lớn hơn $v_{max}$, ta sẽ làm ngược lại, cho vận tốc chạy trong quãng đường s2 là $v_{max}$, rồi tính thời gian trong các quãng đường s1, s2, s3. Các công thức vật lý được dùng:$$v = \\frac{s}{t}$$$$v = v_0 + at$$$$s = v_0t + \\frac{1}{2}at^2$$$$v^2 - v_0^2 = 2as$$\n",
        "\n",
        "Trường hợp tìm $v$ theo $t$, ta có phương trình :$$s_1 + s_2 + s_3 = d$$$$\\Leftrightarrow \\frac{v^2}{2a_1} + vt + \\frac{v^2}{2a_2} = d$$$$\\Leftrightarrow v^2(\\frac{1}{2a_1} + \\frac{1}{2a_2}) + vt - d = 0$$Giải phương trình bậc 2, ẩn $v$, tìm nghiệm $v$ dương, với 3 hệ số của phương trình là $\\frac{1}{2a_1} + \\frac{1}{2a_2}, t, -d$, đặt $a = \\frac{1}{2a_1} + \\frac{1}{2a_2}$, ta được:$$v = \\frac{-t + \\sqrt{t^2 + 4ad}}{2a} $$là vận tốc cần tìm.\n",
        "\n",
        "Thời gian chạy trong quãng đường s1 là: $t_1=\\frac{v}{a_1}$. Thời gian chạy trong quãng đường s3 là: $t_3=\\frac{v}{a_2}$. Kết quả cần tìm là : $t_1 + t + t_3$.\n",
        "\n",
        "Trường hợp $v$ tìm được lớn hơn $v_{max}$: Thời gian chạy trong quãng đường s1 là: $t_1 = \\frac{v_{max}}{a_1}$. Thời gian chạy trong quãng đường s3 là: $t_3 = \\frac{v_{max}}{a_2}$. Quãng đường s2: $s_2 = d - \\frac{v_{max}^2}{2a_1} - \\frac{v_{max}^2}{2a_2}$. Thời gian chạy trong quãng đường s2 là: $t_2 = \\frac{s_2}{v_{max}} = \\frac{d}{v_{max}} - \\frac{v_{max}}{2a_1} - \\frac{v_{max}}{2a_2}$. Kết quả cần tìm là: $t_1 + t_2 + t_3$.\n"
      ]
    },
    {
      "cell_type": "code",
      "metadata": {
        "colab": {
          "base_uri": "https://localhost:8080/"
        },
        "id": "AJ6IiSCXzOfR",
        "outputId": "f6250dd8-19a4-47ce-98c6-3f79ec245610"
      },
      "source": [
        "import math\n",
        "d, a1, a2, v_max, t = map(float, input().split())\n",
        "a = 1/(2*a1) + 1/(2*a2)\n",
        "v = (-t + math.sqrt(t*t + 4*a*d))/(2*a)\n",
        "if v <= v_max:\n",
        "    ans = v / a1 + t + v / a2\n",
        "else:\n",
        "    ans = v_max / (2*a1) + v /(2*a2) + d / v_max\n",
        "print (round(ans,12))"
      ],
      "execution_count": 2,
      "outputs": [
        {
          "output_type": "stream",
          "text": [
            "20.5 0.5 0.6 3 7.5\n",
            "14.373007108234\n"
          ],
          "name": "stdout"
        }
      ]
    },
    {
      "cell_type": "markdown",
      "metadata": {
        "id": "lXPTq0sS1S1C"
      },
      "source": [
        "# 3. VW07p_Vitamin"
      ]
    },
    {
      "cell_type": "markdown",
      "metadata": {
        "id": "-6ei3iCL1a8M"
      },
      "source": [
        "\n",
        "**Tóm tắt**\n",
        "\n",
        "- Cho n, x, a[]. \n",
        "- Đặt $a'[i] =\t\\sum (1<=j<=i)a[j]$ khi $1<=i<=n$.\n",
        "- $a'[i] = a'[n]+(i-n)*a[n]$ khi i>n\n",
        "- $ n = a'[1]*k[1] + a'[2]*k[2] +...+a'[x]*k[x], k[i]>=0 \t\\forall i$\n",
        "- Tối thiểu hóa $\\sum k[i] - 1$\n",
        "\n",
        "---\n",
        "\n",
        "**Ý tưởng**\n",
        "\n",
        "- Bài toán trên có thể duyệt lần lượt từng trường hợp tối thiểu\n",
        "- Nhận thấy bài toán tối thiểu hóa $\\sum k[i] - 1$ với $n = k$ có thể giải quyết bằng các bài toán tối thiểu hóa $\\sum k[i] - x, 1<=x<=n$ với $n = k - 1$, ta có thể lưu lại các bài toán con trên\n",
        "- Gọi bài toán tối thiểu hóa $\\sum k[i]$ với $n = k$ là $f(k)$, ta có $f(k) = \\min (i>=0, n-a'[i]>=0)(f(n-a'[i]) + i)$\n",
        "- Kết quả bài toán tối thiểu hóa $\\sum k[i] - 1$ với $n = k$ là $f(k) - 1$\n",
        "\n"
      ]
    },
    {
      "cell_type": "code",
      "metadata": {
        "colab": {
          "base_uri": "https://localhost:8080/"
        },
        "id": "ThcbTAs-1bhD",
        "outputId": "f3418a47-10ac-4e7e-832c-6557017c674a"
      },
      "source": [
        "import numpy as np\n",
        "n, x = map(int, input().split())\n",
        "tto = list(map(int, input().split()))\n",
        "last = tto[n-1];\n",
        "mdp = []\n",
        "for i in range(1,n):\n",
        "  tto[i] = tto[i] + tto[i-1]\n",
        "mdp.append(0)\n",
        "for i in range(1,x+1):\n",
        "  if (((i-tto[n-1])%last==0) and (i>=tto[n-1])):\n",
        "    mdp.append(((i-tto[n-1])/last) + n + 1)\n",
        "  else:\n",
        "    mdp.append(1000005)\n",
        "for i in range(1,x+1):\n",
        "  for j in range(1,n):\n",
        "    if (i>=tto[j]):\n",
        "      mdp[i] = min(mdp[i],mdp[i-tto[j]]+j+2)\n",
        "    else:\n",
        "      break\n",
        "kq = mdp[x]\n",
        "if (kq>=1000002):\n",
        "  print(-1)\n",
        "else:\n",
        "  print(kq-1)"
      ],
      "execution_count": 3,
      "outputs": [
        {
          "output_type": "stream",
          "text": [
            "5 12\n",
            "1 4 2 6 3\n",
            "6\n"
          ],
          "name": "stdout"
        }
      ]
    }
  ]
}